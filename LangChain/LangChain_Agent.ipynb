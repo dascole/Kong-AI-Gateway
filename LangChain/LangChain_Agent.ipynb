{
  "nbformat": 4,
  "nbformat_minor": 0,
  "metadata": {
    "colab": {
      "provenance": []
    },
    "kernelspec": {
      "name": "python3",
      "display_name": "Python 3"
    },
    "language_info": {
      "name": "python"
    }
  },
  "cells": [
    {
      "cell_type": "code",
      "execution_count": 1,
      "metadata": {
        "colab": {
          "base_uri": "https://localhost:8080/"
        },
        "collapsed": true,
        "id": "qJjrjAAMMAoM",
        "outputId": "10ed02a3-6bc0-4898-8bcd-da1ae1ee13d4"
      },
      "outputs": [
        {
          "output_type": "stream",
          "name": "stdout",
          "text": [
            "Requirement already satisfied: langchain-openai in /usr/local/lib/python3.10/dist-packages (0.2.10)\n",
            "Requirement already satisfied: numexpr in /usr/local/lib/python3.10/dist-packages (2.10.2)\n",
            "Requirement already satisfied: langchain-community in /usr/local/lib/python3.10/dist-packages (0.3.9)\n",
            "Requirement already satisfied: tavily-python in /usr/local/lib/python3.10/dist-packages (0.5.0)\n",
            "Requirement already satisfied: langchainhub in /usr/local/lib/python3.10/dist-packages (0.1.21)\n",
            "Requirement already satisfied: langchain-core<0.4.0,>=0.3.21 in /usr/local/lib/python3.10/dist-packages (from langchain-openai) (0.3.21)\n",
            "Requirement already satisfied: openai<2.0.0,>=1.54.0 in /usr/local/lib/python3.10/dist-packages (from langchain-openai) (1.54.4)\n",
            "Requirement already satisfied: tiktoken<1,>=0.7 in /usr/local/lib/python3.10/dist-packages (from langchain-openai) (0.8.0)\n",
            "Requirement already satisfied: numpy>=1.23.0 in /usr/local/lib/python3.10/dist-packages (from numexpr) (1.26.4)\n",
            "Requirement already satisfied: PyYAML>=5.3 in /usr/local/lib/python3.10/dist-packages (from langchain-community) (6.0.2)\n",
            "Requirement already satisfied: SQLAlchemy<3,>=1.4 in /usr/local/lib/python3.10/dist-packages (from langchain-community) (2.0.35)\n",
            "Requirement already satisfied: aiohttp<4.0.0,>=3.8.3 in /usr/local/lib/python3.10/dist-packages (from langchain-community) (3.11.2)\n",
            "Requirement already satisfied: dataclasses-json<0.7,>=0.5.7 in /usr/local/lib/python3.10/dist-packages (from langchain-community) (0.6.7)\n",
            "Requirement already satisfied: httpx-sse<0.5.0,>=0.4.0 in /usr/local/lib/python3.10/dist-packages (from langchain-community) (0.4.0)\n",
            "Requirement already satisfied: langchain<0.4.0,>=0.3.8 in /usr/local/lib/python3.10/dist-packages (from langchain-community) (0.3.9)\n",
            "Requirement already satisfied: langsmith<0.2.0,>=0.1.125 in /usr/local/lib/python3.10/dist-packages (from langchain-community) (0.1.143)\n",
            "Requirement already satisfied: pydantic-settings<3.0.0,>=2.4.0 in /usr/local/lib/python3.10/dist-packages (from langchain-community) (2.6.1)\n",
            "Requirement already satisfied: requests<3,>=2 in /usr/local/lib/python3.10/dist-packages (from langchain-community) (2.32.3)\n",
            "Requirement already satisfied: tenacity!=8.4.0,<10,>=8.1.0 in /usr/local/lib/python3.10/dist-packages (from langchain-community) (9.0.0)\n",
            "Requirement already satisfied: httpx in /usr/local/lib/python3.10/dist-packages (from tavily-python) (0.27.2)\n",
            "Requirement already satisfied: packaging<25,>=23.2 in /usr/local/lib/python3.10/dist-packages (from langchainhub) (24.2)\n",
            "Requirement already satisfied: types-requests<3.0.0.0,>=2.31.0.2 in /usr/local/lib/python3.10/dist-packages (from langchainhub) (2.32.0.20241016)\n",
            "Requirement already satisfied: aiohappyeyeballs>=2.3.0 in /usr/local/lib/python3.10/dist-packages (from aiohttp<4.0.0,>=3.8.3->langchain-community) (2.4.3)\n",
            "Requirement already satisfied: aiosignal>=1.1.2 in /usr/local/lib/python3.10/dist-packages (from aiohttp<4.0.0,>=3.8.3->langchain-community) (1.3.1)\n",
            "Requirement already satisfied: attrs>=17.3.0 in /usr/local/lib/python3.10/dist-packages (from aiohttp<4.0.0,>=3.8.3->langchain-community) (24.2.0)\n",
            "Requirement already satisfied: frozenlist>=1.1.1 in /usr/local/lib/python3.10/dist-packages (from aiohttp<4.0.0,>=3.8.3->langchain-community) (1.5.0)\n",
            "Requirement already satisfied: multidict<7.0,>=4.5 in /usr/local/lib/python3.10/dist-packages (from aiohttp<4.0.0,>=3.8.3->langchain-community) (6.1.0)\n",
            "Requirement already satisfied: propcache>=0.2.0 in /usr/local/lib/python3.10/dist-packages (from aiohttp<4.0.0,>=3.8.3->langchain-community) (0.2.0)\n",
            "Requirement already satisfied: yarl<2.0,>=1.17.0 in /usr/local/lib/python3.10/dist-packages (from aiohttp<4.0.0,>=3.8.3->langchain-community) (1.17.2)\n",
            "Requirement already satisfied: async-timeout<6.0,>=4.0 in /usr/local/lib/python3.10/dist-packages (from aiohttp<4.0.0,>=3.8.3->langchain-community) (4.0.3)\n",
            "Requirement already satisfied: marshmallow<4.0.0,>=3.18.0 in /usr/local/lib/python3.10/dist-packages (from dataclasses-json<0.7,>=0.5.7->langchain-community) (3.23.1)\n",
            "Requirement already satisfied: typing-inspect<1,>=0.4.0 in /usr/local/lib/python3.10/dist-packages (from dataclasses-json<0.7,>=0.5.7->langchain-community) (0.9.0)\n",
            "Requirement already satisfied: langchain-text-splitters<0.4.0,>=0.3.0 in /usr/local/lib/python3.10/dist-packages (from langchain<0.4.0,>=0.3.8->langchain-community) (0.3.2)\n",
            "Requirement already satisfied: pydantic<3.0.0,>=2.7.4 in /usr/local/lib/python3.10/dist-packages (from langchain<0.4.0,>=0.3.8->langchain-community) (2.9.2)\n",
            "Requirement already satisfied: jsonpatch<2.0,>=1.33 in /usr/local/lib/python3.10/dist-packages (from langchain-core<0.4.0,>=0.3.21->langchain-openai) (1.33)\n",
            "Requirement already satisfied: typing-extensions>=4.7 in /usr/local/lib/python3.10/dist-packages (from langchain-core<0.4.0,>=0.3.21->langchain-openai) (4.12.2)\n",
            "Requirement already satisfied: orjson<4.0.0,>=3.9.14 in /usr/local/lib/python3.10/dist-packages (from langsmith<0.2.0,>=0.1.125->langchain-community) (3.10.11)\n",
            "Requirement already satisfied: requests-toolbelt<2.0.0,>=1.0.0 in /usr/local/lib/python3.10/dist-packages (from langsmith<0.2.0,>=0.1.125->langchain-community) (1.0.0)\n",
            "Requirement already satisfied: anyio in /usr/local/lib/python3.10/dist-packages (from httpx->tavily-python) (3.7.1)\n",
            "Requirement already satisfied: certifi in /usr/local/lib/python3.10/dist-packages (from httpx->tavily-python) (2024.8.30)\n",
            "Requirement already satisfied: httpcore==1.* in /usr/local/lib/python3.10/dist-packages (from httpx->tavily-python) (1.0.7)\n",
            "Requirement already satisfied: idna in /usr/local/lib/python3.10/dist-packages (from httpx->tavily-python) (3.10)\n",
            "Requirement already satisfied: sniffio in /usr/local/lib/python3.10/dist-packages (from httpx->tavily-python) (1.3.1)\n",
            "Requirement already satisfied: h11<0.15,>=0.13 in /usr/local/lib/python3.10/dist-packages (from httpcore==1.*->httpx->tavily-python) (0.14.0)\n",
            "Requirement already satisfied: distro<2,>=1.7.0 in /usr/local/lib/python3.10/dist-packages (from openai<2.0.0,>=1.54.0->langchain-openai) (1.9.0)\n",
            "Requirement already satisfied: jiter<1,>=0.4.0 in /usr/local/lib/python3.10/dist-packages (from openai<2.0.0,>=1.54.0->langchain-openai) (0.7.1)\n",
            "Requirement already satisfied: tqdm>4 in /usr/local/lib/python3.10/dist-packages (from openai<2.0.0,>=1.54.0->langchain-openai) (4.66.6)\n",
            "Requirement already satisfied: python-dotenv>=0.21.0 in /usr/local/lib/python3.10/dist-packages (from pydantic-settings<3.0.0,>=2.4.0->langchain-community) (1.0.1)\n",
            "Requirement already satisfied: charset-normalizer<4,>=2 in /usr/local/lib/python3.10/dist-packages (from requests<3,>=2->langchain-community) (3.4.0)\n",
            "Requirement already satisfied: urllib3<3,>=1.21.1 in /usr/local/lib/python3.10/dist-packages (from requests<3,>=2->langchain-community) (2.2.3)\n",
            "Requirement already satisfied: greenlet!=0.4.17 in /usr/local/lib/python3.10/dist-packages (from SQLAlchemy<3,>=1.4->langchain-community) (3.1.1)\n",
            "Requirement already satisfied: regex>=2022.1.18 in /usr/local/lib/python3.10/dist-packages (from tiktoken<1,>=0.7->langchain-openai) (2024.9.11)\n",
            "Requirement already satisfied: exceptiongroup in /usr/local/lib/python3.10/dist-packages (from anyio->httpx->tavily-python) (1.2.2)\n",
            "Requirement already satisfied: jsonpointer>=1.9 in /usr/local/lib/python3.10/dist-packages (from jsonpatch<2.0,>=1.33->langchain-core<0.4.0,>=0.3.21->langchain-openai) (3.0.0)\n",
            "Requirement already satisfied: annotated-types>=0.6.0 in /usr/local/lib/python3.10/dist-packages (from pydantic<3.0.0,>=2.7.4->langchain<0.4.0,>=0.3.8->langchain-community) (0.7.0)\n",
            "Requirement already satisfied: pydantic-core==2.23.4 in /usr/local/lib/python3.10/dist-packages (from pydantic<3.0.0,>=2.7.4->langchain<0.4.0,>=0.3.8->langchain-community) (2.23.4)\n",
            "Requirement already satisfied: mypy-extensions>=0.3.0 in /usr/local/lib/python3.10/dist-packages (from typing-inspect<1,>=0.4.0->dataclasses-json<0.7,>=0.5.7->langchain-community) (1.0.0)\n"
          ]
        }
      ],
      "source": [
        "!pip install -U langchain-openai numexpr langchain-community tavily-python langchain-openai langchainhub"
      ]
    },
    {
      "cell_type": "code",
      "source": [
        "from langchain_openai import AzureChatOpenAI\n",
        "from langchain.agents import initialize_agent,Tool\n",
        "from langchain_community.tools.tavily_search import TavilySearchResults\n",
        "from langchain.chains import LLMMathChain\n",
        "from google.colab import userdata\n",
        "import os\n",
        "import warnings"
      ],
      "metadata": {
        "id": "X-vBnnruMUdC"
      },
      "execution_count": 2,
      "outputs": []
    },
    {
      "cell_type": "code",
      "source": [
        "os.environ['TAVILY_API_KEY'] = userdata.get('TAVILY_API_KEY')"
      ],
      "metadata": {
        "id": "GcWlvbbFP8qi"
      },
      "execution_count": 3,
      "outputs": []
    },
    {
      "cell_type": "code",
      "source": [
        "warnings.filterwarnings(\"ignore\")"
      ],
      "metadata": {
        "id": "ktvGrMT0NHAT"
      },
      "execution_count": 4,
      "outputs": []
    },
    {
      "cell_type": "code",
      "source": [
        "try:\n",
        "  apikey=userdata.get('TAVILY_API_KEY')\n",
        "except:\n",
        "  raise ValueError('Please add your Tavily API key to the notebook secrets, ref: https://tavily.com/')"
      ],
      "metadata": {
        "id": "PJBzg8-BNJj4"
      },
      "execution_count": 5,
      "outputs": []
    },
    {
      "cell_type": "code",
      "source": [
        "if 'host' not in globals():\n",
        "  host = input(\"Enter your Gateway host url (http://localhost:8000/agent): \") or \"http://localhost:8000/agent\""
      ],
      "metadata": {
        "colab": {
          "base_uri": "https://localhost:8080/"
        },
        "id": "cmVLzhIJNTf_",
        "outputId": "35a9ea3a-8802-4ba6-e95c-6120fc365c4a"
      },
      "execution_count": 6,
      "outputs": [
        {
          "name": "stdout",
          "output_type": "stream",
          "text": [
            "Enter your Gateway host url (http://localhost:8000/agent): https://eb0e-69-124-149-97.ngrok-free.app/agent\n"
          ]
        }
      ]
    },
    {
      "cell_type": "code",
      "source": [
        "llm = AzureChatOpenAI(\n",
        "    azure_endpoint=host,\n",
        "    api_version=\"2023-03-15-preview\",\n",
        "    temperature=0,\n",
        "    timeout=None,\n",
        "    max_retries=3,\n",
        "    model=\"gpt-4o\",\n",
        "    api_key=\"123\",\n",
        "    streaming=True\n",
        ")"
      ],
      "metadata": {
        "id": "8LmiaYHROdVk"
      },
      "execution_count": 7,
      "outputs": []
    },
    {
      "cell_type": "code",
      "source": [
        "tavily_tool = TavilySearchResults(max_results=1)"
      ],
      "metadata": {
        "id": "LZ3Rd8UaOhhp"
      },
      "execution_count": 8,
      "outputs": []
    },
    {
      "cell_type": "code",
      "source": [
        "math_tool = LLMMathChain(llm=llm)"
      ],
      "metadata": {
        "id": "dWylRfa-NX-C"
      },
      "execution_count": 9,
      "outputs": []
    },
    {
      "cell_type": "code",
      "source": [
        "prompt_template = \"\"\"\n",
        "You are an assistant that has access to two tools: a calculator and a web search tool. You can use the calculator to perform calculations or use the web search tool to find information.\n",
        "\n",
        "here is the user input: {input}\n",
        "\"\"\""
      ],
      "metadata": {
        "id": "5O8ftSkcOmCk"
      },
      "execution_count": 10,
      "outputs": []
    },
    {
      "cell_type": "code",
      "source": [
        "tools = [\n",
        "    Tool(\n",
        "        name=\"Tavily Search\",\n",
        "        func=tavily_tool.invoke,\n",
        "        description=\"Search the web for information\",\n",
        "    ),\n",
        "    Tool(\n",
        "        name=\"Math Tool\",\n",
        "        func=math_tool.run,\n",
        "        description=\"Perform calculations\",\n",
        "    )\n",
        "\n",
        "]"
      ],
      "metadata": {
        "id": "FyYzbbwDOneo"
      },
      "execution_count": 11,
      "outputs": []
    },
    {
      "cell_type": "code",
      "source": [
        "agent = initialize_agent(llm=llm,tools=tools,prompt_template=prompt_template,verbose=True)"
      ],
      "metadata": {
        "id": "CEHoWEMEOpVj"
      },
      "execution_count": 12,
      "outputs": []
    },
    {
      "cell_type": "code",
      "source": [
        "user_input = \"\"\"Add 2 + the current population of the United States as of today, then tell me what 10% of the answer is. You will then multiply that percentage\n",
        "by 100 and divide the result by 0.1. Finally, you will tell me if this is greater or less than the current population of the United Kingdom as of today.\"\"\""
      ],
      "metadata": {
        "id": "G0YnMwdqOq_f"
      },
      "execution_count": 13,
      "outputs": []
    },
    {
      "cell_type": "code",
      "source": [
        "response = agent.run(user_input)"
      ],
      "metadata": {
        "colab": {
          "base_uri": "https://localhost:8080/"
        },
        "id": "m2veT_2wOtSH",
        "outputId": "b8c10e3c-72b4-49f5-94dd-3fe6faeb9fe3"
      },
      "execution_count": 14,
      "outputs": [
        {
          "output_type": "stream",
          "name": "stdout",
          "text": [
            "\n",
            "\n",
            "\u001b[1m> Entering new AgentExecutor chain...\u001b[0m\n",
            "\u001b[32;1m\u001b[1;3mTo answer this question, I need to follow several steps:\n",
            "\n",
            "1. Find the current population of the United States.\n",
            "2. Add 2 to the current population of the United States.\n",
            "3. Calculate 10% of the result from step 2.\n",
            "4. Multiply that percentage by 100 and divide the result by 0.1.\n",
            "5. Find the current population of the United Kingdom.\n",
            "6. Compare the result from step 4 with the current population of the United Kingdom.\n",
            "\n",
            "First, I will find the current population of the United States.\n",
            "\n",
            "Action: Tavily Search\n",
            "Action Input: \"current population of the United States October 2023\"\u001b[0m\n",
            "Observation: \u001b[36;1m\u001b[1;3m[{'url': 'https://www.macrotrends.net/global-metrics/countries/USA/united-states/population', 'content': 'U.S. Population 1950-2024 | MacroTrends U.S. Population 1950-2024 Population Population The population of U.S. in 2023 was 339,996,563, a 0.5% increase from 2022. The population of U.S. in 2022 was 338,289,857, a 0.38% increase from 2021. The population of U.S. in 2021 was 336,997,624, a 0.31% increase from 2020. Data Source: United Nations - World Population Prospects  | Country Name | 2024 Population | | United States - Historical Population Data | | Year | Population | Growth Rate | If you use our chart images on your site or blog, we ask that you provide attribution via a link back to this page. | U.S. Population 1950-2024 |  | | U.S. Population 1950-2024 |  |'}]\u001b[0m\n",
            "Thought:\u001b[32;1m\u001b[1;3mThe current population of the United States in 2023 is approximately 339,996,563.\n",
            "\n",
            "Next, I will add 2 to this population.\n",
            "\n",
            "Action: Math Tool\n",
            "Action Input: 339996563 + 2\u001b[0m\n",
            "Observation: \u001b[33;1m\u001b[1;3mAnswer: 339996565\u001b[0m\n",
            "Thought:\u001b[32;1m\u001b[1;3mThe result of adding 2 to the current population of the United States is 339,996,565.\n",
            "\n",
            "Next, I will calculate 10% of this result.\n",
            "\n",
            "Action: Math Tool\n",
            "Action Input: 339996565 * 0.10\u001b[0m\n",
            "Observation: \u001b[33;1m\u001b[1;3mAnswer: 33999656.5\u001b[0m\n",
            "Thought:\u001b[32;1m\u001b[1;3mThe result of calculating 10% of 339,996,565 is 33,999,656.5.\n",
            "\n",
            "Next, I will multiply this percentage by 100 and then divide the result by 0.1.\n",
            "\n",
            "Action: Math Tool\n",
            "Action Input: (33999656.5 * 100) / 0.1\u001b[0m\n",
            "Observation: \u001b[33;1m\u001b[1;3mAnswer: 33999656500.0\u001b[0m\n",
            "Thought:\u001b[32;1m\u001b[1;3mThe result of multiplying 33,999,656.5 by 100 and then dividing by 0.1 is 33,999,656,500.\n",
            "\n",
            "Next, I need to find the current population of the United Kingdom and compare it with 33,999,656,500.\n",
            "\n",
            "Action: Tavily Search\n",
            "Action Input: \"current population of the United Kingdom October 2023\"\u001b[0m\n",
            "Observation: \u001b[36;1m\u001b[1;3m[{'url': 'https://www.macrotrends.net/global-metrics/countries/GBR/united-kingdom/population', 'content': 'Chart and table of U.K. population from 1950 to 2024. United Nations projections are also included through the year 2100. The current population of U.K. in 2024 is 67,961,439, a 0.33% increase from 2023. The population of U.K. in 2023 was 67,736,802, a 0.34% increase from 2022. The population of U.K. in 2022 was 67,508,936, a 0.34% increase'}]\u001b[0m\n",
            "Thought:\u001b[32;1m\u001b[1;3mThe current population of the United Kingdom in 2023 is approximately 67,736,802.\n",
            "\n",
            "Now, I will compare 33,999,656,500 with 67,736,802.\n",
            "\n",
            "Thought: I now know the final answer\n",
            "Final Answer: 33,999,656,500 is much greater than the current population of the United Kingdom, which is approximately 67,736,802.\u001b[0m\n",
            "\n",
            "\u001b[1m> Finished chain.\u001b[0m\n"
          ]
        }
      ]
    }
  ]
}